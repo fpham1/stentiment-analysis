{
 "cells": [
  {
   "cell_type": "code",
   "execution_count": 3,
   "metadata": {},
   "outputs": [],
   "source": [
    "#Libraries import\n",
    "import pandas as pd\n",
    "import numpy as np\n",
    "\n",
    "#Plays import\n",
    "hamlet = pd.read_csv('data/hamlet.tsv', sep = '\\t')\n",
    "macbeth = pd.read_csv('data/macbeth.tsv', sep = '\\t')\n",
    "othello = pd.read_csv('data/othello.tsv', sep = '\\t')"
   ]
  },
  {
   "cell_type": "code",
   "execution_count": 4,
   "metadata": {},
   "outputs": [
    {
     "name": "stdout",
     "output_type": "stream",
     "text": [
      "0.06976763925729437\n",
      "0.047560940032414865\n",
      "0.07470392670157067\n"
     ]
    }
   ],
   "source": [
    "#Mean compound per play\n",
    "hamlet_mean = hamlet['compound'].mean()\n",
    "macbeth_mean = macbeth['compound'].mean()\n",
    "othello_mean = othello['compound'].mean()\n",
    "\n",
    "#Print mean compound per play\n",
    "print(hamlet_mean)\n",
    "print(macbeth_mean)\n",
    "print(othello_mean)"
   ]
  },
  {
   "cell_type": "code",
   "execution_count": 8,
   "metadata": {
    "scrolled": false
   },
   "outputs": [
    {
     "name": "stdout",
     "output_type": "stream",
     "text": [
      "Hamlet count    1131.000000\n",
      "mean        0.069768\n",
      "std         0.459128\n",
      "min        -0.996000\n",
      "25%        -0.050700\n",
      "50%         0.000000\n",
      "75%         0.401900\n",
      "max         0.993800\n",
      "Name: compound, dtype: float64\n",
      "Macbeth count    617.000000\n",
      "mean       0.047561\n",
      "std        0.482470\n",
      "min       -0.989200\n",
      "25%       -0.160100\n",
      "50%        0.000000\n",
      "75%        0.421500\n",
      "max        0.985100\n",
      "Name: compound, dtype: float64\n",
      "Othello count    1146.000000\n",
      "mean        0.074704\n",
      "std         0.464016\n",
      "min        -0.978800\n",
      "25%        -0.082825\n",
      "50%         0.000000\n",
      "75%         0.440400\n",
      "max         0.988500\n",
      "Name: compound, dtype: float64\n"
     ]
    }
   ],
   "source": [
    "#Description per play\n",
    "hamlet_describe = hamlet['compound'].describe()\n",
    "macbeth_describe = macbeth['compound'].describe()\n",
    "othello_describe = othello['compound'].describe()\n",
    "\n",
    "#Print description per play\n",
    "print(\"Hamlet\", hamlet_describe)\n",
    "print(\"Macbeth\", macbeth_describe)\n",
    "print(\"Othello\", othello_describe)"
   ]
  },
  {
   "cell_type": "code",
   "execution_count": null,
   "metadata": {},
   "outputs": [],
   "source": []
  }
 ],
 "metadata": {
  "kernelspec": {
   "display_name": "Python 3",
   "language": "python",
   "name": "python3"
  },
  "language_info": {
   "codemirror_mode": {
    "name": "ipython",
    "version": 3
   },
   "file_extension": ".py",
   "mimetype": "text/x-python",
   "name": "python",
   "nbconvert_exporter": "python",
   "pygments_lexer": "ipython3",
   "version": "3.8.3"
  }
 },
 "nbformat": 4,
 "nbformat_minor": 4
}
