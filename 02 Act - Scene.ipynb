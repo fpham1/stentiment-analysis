{
 "cells": [
  {
   "cell_type": "code",
   "execution_count": 1,
   "metadata": {},
   "outputs": [],
   "source": [
    "#Libraries import\n",
    "import pandas as pd\n",
    "import numpy as np\n",
    "\n",
    "#Plays import\n",
    "hamlet = pd.read_csv('data/hamlet.tsv', sep = '\\t')\n",
    "macbeth = pd.read_csv('data/macbeth.tsv', sep = '\\t')\n",
    "othello = pd.read_csv('data/othello.tsv', sep = '\\t')"
   ]
  },
  {
   "cell_type": "code",
   "execution_count": 2,
   "metadata": {},
   "outputs": [
    {
     "name": "stdout",
     "output_type": "stream",
     "text": [
      "Hamlet              compound\n",
      "Act - Scene          \n",
      "I - I        0.004151\n",
      "I - II       0.122120\n",
      "I - III      0.315364\n",
      "I - IV      -0.157886\n",
      "I - V        0.039513\n",
      "II - I       0.073254\n",
      "II - II      0.165676\n",
      "III - I      0.268964\n",
      "III - II     0.110452\n",
      "III - III   -0.372456\n",
      "III - IV    -0.047302\n",
      "IV - I      -0.038829\n",
      "IV - II      0.019241\n",
      "IV - III     0.121226\n",
      "IV - IV      0.229241\n",
      "IV - V       0.091930\n",
      "IV - VI      0.127500\n",
      "IV - VII    -0.025498\n",
      "V - I       -0.067862\n",
      "V - II       0.049699\n",
      "Macbeth              compound\n",
      "Act - Scene          \n",
      "I - I        0.089740\n",
      "I - II       0.084411\n",
      "I - III      0.144639\n",
      "I - IV       0.197682\n",
      "I - V        0.171944\n",
      "I - VI       0.585286\n",
      "I - VII     -0.113023\n",
      "II - I       0.257488\n",
      "II - II     -0.077850\n",
      "II - III    -0.067070\n",
      "II - IV      0.048229\n",
      "III - I      0.065882\n",
      "III - II     0.042667\n",
      "III - III    0.099545\n",
      "III - IV     0.139410\n",
      "III - V      0.084650\n",
      "IV - I      -0.001483\n",
      "IV - II     -0.130168\n",
      "IV - III     0.174631\n",
      "V - I        0.103609\n",
      "V - II      -0.145070\n",
      "V - III     -0.114435\n",
      "V - IV       0.153370\n",
      "V - V       -0.238600\n",
      "V - VI      -0.001467\n",
      "V - VII     -0.143969\n",
      "V - VIII    -0.039057\n",
      "Othello              compound\n",
      "Act - Scene          \n",
      "I - I       -0.069876\n",
      "I - II       0.121625\n",
      "I - III      0.058299\n",
      "II - I       0.248310\n",
      "II - III     0.140089\n",
      "III - I      0.166052\n",
      "III - II     0.153100\n",
      "III - III    0.137082\n",
      "III - IV     0.102094\n",
      "IV - I       0.109421\n",
      "IV - II      0.104135\n",
      "IV - III     0.087557\n",
      "V - I       -0.116275\n",
      "V - II      -0.063185\n"
     ]
    }
   ],
   "source": [
    "#Mean compound per \"Act - Scene\"\n",
    "hamlet_act_scene_mean = hamlet[['Act - Scene', 'compound']].groupby('Act - Scene').mean()\n",
    "macbeth_act_scene_mean = macbeth[['Act - Scene', 'compound']].groupby('Act - Scene').mean()\n",
    "othello_act_scene_mean = othello[['Act - Scene', 'compound']].groupby('Act - Scene').mean()\n",
    "\n",
    "#Print mean compound per \"Act - Scene\"\n",
    "print(\"Hamlet\", hamlet_act_scene_mean)\n",
    "print(\"Macbeth\", macbeth_act_scene_mean)\n",
    "print(\"Othello\", othello_act_scene_mean)"
   ]
  },
  {
   "cell_type": "code",
   "execution_count": 5,
   "metadata": {},
   "outputs": [],
   "source": [
    "#Export compound mean for each \"Act - Scene\"\n",
    "hamlet_act_scene_mean.to_csv('hamlet_act_scene_mean.tsv', sep = '\\t')\n",
    "macbeth_act_scene_mean.to_csv('macbeth_act_scene_mean.tsv', sep = '\\t')\n",
    "othello_act_scene_mean.to_csv('othello_act_scene_mean.tsv', sep = '\\t')"
   ]
  },
  {
   "cell_type": "code",
   "execution_count": null,
   "metadata": {},
   "outputs": [],
   "source": []
  }
 ],
 "metadata": {
  "kernelspec": {
   "display_name": "Python 3",
   "language": "python",
   "name": "python3"
  },
  "language_info": {
   "codemirror_mode": {
    "name": "ipython",
    "version": 3
   },
   "file_extension": ".py",
   "mimetype": "text/x-python",
   "name": "python",
   "nbconvert_exporter": "python",
   "pygments_lexer": "ipython3",
   "version": "3.8.3"
  }
 },
 "nbformat": 4,
 "nbformat_minor": 4
}
